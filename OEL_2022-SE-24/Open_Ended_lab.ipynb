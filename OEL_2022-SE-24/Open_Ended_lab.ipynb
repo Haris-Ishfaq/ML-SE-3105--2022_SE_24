{
  "cells": [
    {
      "cell_type": "code",
      "execution_count": null,
      "metadata": {
        "id": "EDxAIf2Z_auF"
      },
      "outputs": [],
      "source": [
        "import pandas as pd\n",
        "import numpy as np\n",
        "import matplotlib.pyplot as plt\n",
        "from sklearn.model_selection import train_test_split, GridSearchCV\n",
        "from sklearn.preprocessing import StandardScaler\n",
        "from sklearn.impute import SimpleImputer\n",
        "from sklearn.linear_model import LogisticRegression\n",
        "from sklearn.neighbors import KNeighborsClassifier\n",
        "from sklearn.naive_bayes import GaussianNB\n",
        "from sklearn.metrics import accuracy_score, confusion_matrix, classification_report"
      ]
    },
    {
      "cell_type": "code",
      "execution_count": null,
      "metadata": {
        "id": "CZ0gILSk_fmH"
      },
      "outputs": [],
      "source": [
        "# Load the dataset\n",
        "train_df = pd.read_csv('mnist_train.csv')\n",
        "test_df = pd.read_csv('mnist_test.csv')"
      ]
    },
    {
      "cell_type": "code",
      "execution_count": null,
      "metadata": {
        "id": "CGxP5Qra_iuy"
      },
      "outputs": [],
      "source": [
        "# Separate features and labels\n",
        "X_train = train_df.drop('label', axis=1)  # 60,000\n",
        "y_train = train_df['label']\n",
        "X_test = test_df.drop('label', axis=1)    # 10,000\n",
        "y_test = test_df['label']"
      ]
    },
    {
      "cell_type": "code",
      "execution_count": null,
      "metadata": {
        "colab": {
          "base_uri": "https://localhost:8080/"
        },
        "id": "YhxN7-Z_FCRj",
        "outputId": "e38cd6f0-ddd5-4fab-847c-7f92e51cb1e2"
      },
      "outputs": [
        {
          "name": "stdout",
          "output_type": "stream",
          "text": [
            "NaN values in X_train: 0        0\n",
            "1        0\n",
            "2        0\n",
            "3        0\n",
            "4        0\n",
            "        ..\n",
            "780      0\n",
            "781      0\n",
            "782      0\n",
            "783      0\n",
            "label    0\n",
            "Length: 785, dtype: int64\n",
            "NaN values in X_test: 0        0\n",
            "1        0\n",
            "2        0\n",
            "3        0\n",
            "4        0\n",
            "        ..\n",
            "780      0\n",
            "781      0\n",
            "782      0\n",
            "783      0\n",
            "label    0\n",
            "Length: 785, dtype: int64\n"
          ]
        }
      ],
      "source": [
        "# Check for NaNs\n",
        "print(\"NaN values in X_train:\", np.isnan(train_df).sum())\n",
        "print(\"NaN values in X_test:\", np.isnan(test_df).sum())"
      ]
    },
    {
      "cell_type": "code",
      "execution_count": null,
      "metadata": {
        "colab": {
          "background_save": true
        },
        "id": "DUYFmhz2_rYQ"
      },
      "outputs": [],
      "source": [
        "# Define models\n",
        "models = {\n",
        "    'Logistic Regression': LogisticRegression(max_iter=1000),\n",
        "    'K-Nearest Neighbors': KNeighborsClassifier(),\n",
        "    'Naive Bayes': GaussianNB()\n",
        "}\n",
        "\n",
        "# Hyperparameter tuning for KNN\n",
        "knn_params = {'n_neighbors': [3, 5, 7]}\n",
        "grid_knn = GridSearchCV(KNeighborsClassifier(), knn_params, cv=3)\n",
        "grid_knn.fit(X_train, y_train)\n",
        "models['K-Nearest Neighbors'] = grid_knn.best_estimator_\n"
      ]
    },
    {
      "cell_type": "code",
      "execution_count": null,
      "metadata": {
        "colab": {
          "base_uri": "https://localhost:8080/"
        },
        "id": "GHyp78PILDnz",
        "outputId": "f06cd798-7a64-4ab8-c8f7-d1b10d276461"
      },
      "outputs": [
        {
          "name": "stdout",
          "output_type": "stream",
          "text": [
            "--- Logistic Regression ---\n",
            "Accuracy: 0.9214\n",
            "Confusion Matrix:\n",
            " [[ 948    0    3    4    1   12    6    3    3    0]\n",
            " [   0 1108    8    3    0    2    3    1   10    0]\n",
            " [  10    9  918   17   11    5   13    7   38    4]\n",
            " [   3    1   20  922    2   21    3   11   20    7]\n",
            " [   1    4    9    4  914    1    9    7    6   27]\n",
            " [  10    5    2   33    9  773   16    8   32    4]\n",
            " [   8    4   10    3    5   18  908    1    1    0]\n",
            " [   3    8   24    7    6    2    0  942    6   30]\n",
            " [  10   12    5   23    8   28    9    8  856   15]\n",
            " [   7    7    2    8   19    8    0   23   10  925]]\n",
            "Classification Report:\n",
            "               precision    recall  f1-score   support\n",
            "\n",
            "           0       0.95      0.97      0.96       980\n",
            "           1       0.96      0.98      0.97      1135\n",
            "           2       0.92      0.89      0.90      1032\n",
            "           3       0.90      0.91      0.91      1010\n",
            "           4       0.94      0.93      0.93       982\n",
            "           5       0.89      0.87      0.88       892\n",
            "           6       0.94      0.95      0.94       958\n",
            "           7       0.93      0.92      0.92      1028\n",
            "           8       0.87      0.88      0.88       974\n",
            "           9       0.91      0.92      0.92      1009\n",
            "\n",
            "    accuracy                           0.92     10000\n",
            "   macro avg       0.92      0.92      0.92     10000\n",
            "weighted avg       0.92      0.92      0.92     10000\n",
            "\n",
            "--- K-Nearest Neighbors ---\n",
            "Accuracy: 0.9443\n",
            "Confusion Matrix:\n",
            " [[ 963    0    1    3    1    5    6    1    0    0]\n",
            " [   0 1129    3    0    0    0    3    0    0    0]\n",
            " [  14    6  960   20    5    0    7    9   10    1]\n",
            " [   0    3    5  962    3   13    0   10   10    4]\n",
            " [   1   10    5    3  922    3    6    4    2   26]\n",
            " [   5    1    3   23    8  824   13    2    6    7]\n",
            " [  10    4    2    1    3    6  929    0    3    0]\n",
            " [   0   21   12    4    8    2    0  949    1   31]\n",
            " [  13    3    6   18    8   30    3    6  880    7]\n",
            " [   6    5    5   10   18    6    0   31    3  925]]\n",
            "Classification Report:\n",
            "               precision    recall  f1-score   support\n",
            "\n",
            "           0       0.95      0.98      0.97       980\n",
            "           1       0.96      0.99      0.97      1135\n",
            "           2       0.96      0.93      0.94      1032\n",
            "           3       0.92      0.95      0.94      1010\n",
            "           4       0.94      0.94      0.94       982\n",
            "           5       0.93      0.92      0.93       892\n",
            "           6       0.96      0.97      0.97       958\n",
            "           7       0.94      0.92      0.93      1028\n",
            "           8       0.96      0.90      0.93       974\n",
            "           9       0.92      0.92      0.92      1009\n",
            "\n",
            "    accuracy                           0.94     10000\n",
            "   macro avg       0.94      0.94      0.94     10000\n",
            "weighted avg       0.94      0.94      0.94     10000\n",
            "\n",
            "--- Naive Bayes ---\n",
            "Accuracy: 0.5240\n",
            "Confusion Matrix:\n",
            " [[ 828    0    1    7    2    5   19    0   89   29]\n",
            " [   1 1067    0    0    1    0    7    0   50    9]\n",
            " [ 110   16  182  103    7    5  254    3  330   22]\n",
            " [  40   24    4  282    1    3   34    7  505  110]\n",
            " [  23    2    3    4  129    5   31    5  273  507]\n",
            " [  55   15    1   16    2   29   27    2  645  100]\n",
            " [  17   11    3    1    1    5  877    0   42    1]\n",
            " [   0   11    2    9    5    1    5  201   74  720]\n",
            " [  12   53    3    6    2   11   10    1  684  192]\n",
            " [   4    5    3    6    0    0    1    9   20  961]]\n",
            "Classification Report:\n",
            "               precision    recall  f1-score   support\n",
            "\n",
            "           0       0.76      0.84      0.80       980\n",
            "           1       0.89      0.94      0.91      1135\n",
            "           2       0.90      0.18      0.29      1032\n",
            "           3       0.65      0.28      0.39      1010\n",
            "           4       0.86      0.13      0.23       982\n",
            "           5       0.45      0.03      0.06       892\n",
            "           6       0.69      0.92      0.79       958\n",
            "           7       0.88      0.20      0.32      1028\n",
            "           8       0.25      0.70      0.37       974\n",
            "           9       0.36      0.95      0.53      1009\n",
            "\n",
            "    accuracy                           0.52     10000\n",
            "   macro avg       0.67      0.52      0.47     10000\n",
            "weighted avg       0.68      0.52      0.48     10000\n",
            "\n"
          ]
        }
      ],
      "source": [
        "accuracies = {}\n",
        "for name, model in models.items():\n",
        "    model.fit(X_train, y_train)\n",
        "    y_pred = model.predict(X_test)\n",
        "    acc = accuracy_score(y_test, y_pred)\n",
        "    accuracies[name] = acc\n",
        "    print(f'--- {name} ---')\n",
        "    print(f'Accuracy: {acc:.4f}')\n",
        "    print('Confusion Matrix:\\n', confusion_matrix(y_test, y_pred))\n",
        "    print('Classification Report:\\n', classification_report(y_test, y_pred))"
      ]
    },
    {
      "cell_type": "code",
      "execution_count": null,
      "metadata": {
        "colab": {
          "base_uri": "https://localhost:8080/",
          "height": 535
        },
        "id": "hDwVN7Gt-6Yx",
        "outputId": "22911c28-17eb-464a-ed48-411ff94e872a"
      },
      "outputs": [
        {
          "data": {
            "image/png": "[encoded data removed]",
            "text/plain": [
              "<Figure size 1000x500 with 1 Axes>"
            ]
          },
          "metadata": {},
          "output_type": "display_data"
        }
      ],
      "source": [
        "plt.figure(figsize=(10, 5))\n",
        "plt.bar(accuracies.keys(), accuracies.values(), color=['blue', 'green', 'orange', 'red'])\n",
        "plt.xlabel('Model')\n",
        "plt.ylabel('Accuracy')\n",
        "plt.title('Model Accuracy Comparison')\n",
        "plt.ylim(0, 1)\n",
        "plt.xticks(rotation=20)\n",
        "plt.show()\n"
      ]
    },
    {
      "cell_type": "code",
      "execution_count": null,
      "metadata": {
        "id": "mAOPKFx0HNVP"
      },
      "outputs": [],
      "source": []
    }
  ],
  "metadata": {
    "colab": {
      "provenance": []
    },
    "kernelspec": {
      "display_name": "Python 3",
      "name": "python3"
    },
    "language_info": {
      "name": "python"
    }
  },
  "nbformat": 4,
  "nbformat_minor": 0
}